{
  "nbformat": 4,
  "nbformat_minor": 0,
  "metadata": {
    "colab": {
      "provenance": [],
      "authorship_tag": "ABX9TyPo5kIY8l6HtbQzJCixj/hA",
      "include_colab_link": true
    },
    "kernelspec": {
      "name": "python3",
      "display_name": "Python 3"
    },
    "language_info": {
      "name": "python"
    }
  },
  "cells": [
    {
      "cell_type": "markdown",
      "metadata": {
        "id": "view-in-github",
        "colab_type": "text"
      },
      "source": [
        "<a href=\"https://colab.research.google.com/github/jeonhyeonjoon1/BP_10_Ch6/blob/main/BP_10_Ch6.ipynb\" target=\"_parent\"><img src=\"https://colab.research.google.com/assets/colab-badge.svg\" alt=\"Open In Colab\"/></a>"
      ]
    },
    {
      "cell_type": "code",
      "execution_count": 4,
      "metadata": {
        "colab": {
          "base_uri": "https://localhost:8080/"
        },
        "id": "JYd3ChUbA8Yv",
        "outputId": "026f701d-749f-4967-ddd5-f3af988e8c99"
      },
      "outputs": [
        {
          "output_type": "stream",
          "name": "stdout",
          "text": [
            "2 4 6 8 10 12 14 16 18 20 22 24 26 28 30 32 34 36 38 40 42 44 46 48 50 52 54 56 58 60 62 64 66 68 70 72 74 76 78 80 82 84 86 88 90 92 94 96 98 100 "
          ]
        }
      ],
      "source": [
        "for _ in range(2,101,2):       #for함수를 사용해 2부터 101까지 2씩 늘려가며 반복한다 101까지 적어야 100까지 출력된다\n",
        "    print(_, end=\" \")          #변수를 언더바 처리했으므로 언더바를 똑같이 써주고 end를 사용해 해당 숫자를 끝까지 반복한다"
      ]
    },
    {
      "cell_type": "code",
      "source": [
        "year = 0\n",
        "balance = 1000\n",
        "while balance <= 2000:            #이 부분에서 맨처음 balance가 1000이라 2000보다큼을 충족하지 못하기 때문에 오류가 생긴다\n",
        "    year = year + 1\n",
        "    interest = balance * 0.07\n",
        "    balance = balance + interest\n",
        "print(year, \"년이 걸립니다.\")"
      ],
      "metadata": {
        "colab": {
          "base_uri": "https://localhost:8080/"
        },
        "id": "fDec1P6zD-Li",
        "outputId": "3134d29c-74f3-4b2d-e99c-99501242bb7c"
      },
      "execution_count": 6,
      "outputs": [
        {
          "output_type": "stream",
          "name": "stdout",
          "text": [
            "11 년이 걸립니다.\n"
          ]
        }
      ]
    },
    {
      "cell_type": "code",
      "source": [
        "n = 1234              \n",
        "sum = 0\n",
        "while n > 0:               #n이 0보다 크면 계속 반복한다\n",
        "    digit = n %10          #digit값을 n%10 으로 정한다\n",
        "    sum = sum + digit      #초기값이 0인 sum에 digit값을 계속 더한다\n",
        "    n = n // 10            #n을 한자릿수 씩 줄여나간다 즉 4+3+2+1까지 더해 값은 10이출력된다\n",
        "print(sum)"
      ],
      "metadata": {
        "colab": {
          "base_uri": "https://localhost:8080/"
        },
        "id": "hv-npDoTE2iK",
        "outputId": "1177c23f-bb79-4df4-a39d-92c3e5857858"
      },
      "execution_count": 7,
      "outputs": [
        {
          "output_type": "stream",
          "name": "stdout",
          "text": [
            "10\n"
          ]
        }
      ]
    },
    {
      "cell_type": "code",
      "source": [
        "import random                   #랜덤 함수를 불러옴\n",
        "x = random.randint(1, 10)       #x에 1~10중 하나의 정수를 랜덤으로 할당\n",
        "y = random.randint(1, 10)       #y에 1~10중 하나의 정수를 랜덤으로 할당\n",
        " \n",
        "while(True):\n",
        "    z = int(input(str(x)+\"*\"+str(y)+\"는 \"))\n",
        "    if(z == (x*y)):\n",
        "        print(\"맞았습니다\", end=\" \")\n",
        "        break;                #break를 활용해 맞을경우 반복문 종료"
      ],
      "metadata": {
        "colab": {
          "base_uri": "https://localhost:8080/"
        },
        "id": "-XkHqynCG-Zt",
        "outputId": "20424ff0-0339-47d7-e8b4-52b9dd7615b3"
      },
      "execution_count": 9,
      "outputs": [
        {
          "output_type": "stream",
          "name": "stdout",
          "text": [
            "2*10는 20\n",
            "맞았습니다 "
          ]
        }
      ]
    },
    {
      "cell_type": "code",
      "source": [
        "sum =0\n",
        "while(True):\n",
        "    x = int(input(\"정수를 입력하시오 : \"))    #x에 사용자가 입력한 정수를 숫자열로 할당한다\n",
        "    if(x==0):              #x가0일시 반복문을 종료한다\n",
        "        break;\n",
        "    sum += x              #+=를 활용해 x를 더한후 다시 그값을 sum으로 할당한다 \n",
        "print(\"합은\", sum ,\"입니다.\")"
      ],
      "metadata": {
        "colab": {
          "base_uri": "https://localhost:8080/"
        },
        "id": "yuC_aA2iJPrd",
        "outputId": "927abf01-4f92-4bd2-dc5c-63658f3f6995"
      },
      "execution_count": 10,
      "outputs": [
        {
          "output_type": "stream",
          "name": "stdout",
          "text": [
            "정수를 입력하시오 : 1234\n",
            "정수를 입력하시오 : 1234\n",
            "정수를 입력하시오 : 1234\n",
            "정수를 입력하시오 : 0\n",
            "합은 3702 입니다.\n"
          ]
        }
      ]
    },
    {
      "cell_type": "code",
      "source": [
        "import random        #랜덤함수를 불러온다\n",
        " \n",
        "for _ in range(3):   #괄호안의 숫자만큼 반복한다\n",
        "    x = random.randint(1, 6)  #x에 1~6중 하나의 정수를 할당\n",
        "    y = random.randint(1, 6)\n",
        "    print(\"첫번째 주사위=\",x ,\"두번째 주사위=\",y)"
      ],
      "metadata": {
        "colab": {
          "base_uri": "https://localhost:8080/"
        },
        "id": "Gw-6skjkJ8F3",
        "outputId": "f0d55f59-4994-48cf-9ff5-91c29580bacc"
      },
      "execution_count": 13,
      "outputs": [
        {
          "output_type": "stream",
          "name": "stdout",
          "text": [
            "첫번째 주사위= 5 두번째 주사위= 6\n",
            "첫번째 주사위= 4 두번째 주사위= 3\n",
            "첫번째 주사위= 5 두번째 주사위= 5\n"
          ]
        }
      ]
    },
    {
      "cell_type": "code",
      "source": [],
      "metadata": {
        "id": "M3fXjvLCKrWv"
      },
      "execution_count": null,
      "outputs": []
    },
    {
      "cell_type": "code",
      "source": [],
      "metadata": {
        "id": "RBd4t88qKjou"
      },
      "execution_count": null,
      "outputs": []
    }
  ]
}